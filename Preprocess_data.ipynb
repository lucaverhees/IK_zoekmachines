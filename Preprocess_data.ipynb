{
 "cells": [
  {
   "cell_type": "markdown",
   "metadata": {},
   "source": [
    "# Preparing data (JSON export)"
   ]
  },
  {
   "cell_type": "code",
   "execution_count": 52,
   "metadata": {
    "collapsed": false,
    "deletable": true,
    "editable": true
   },
   "outputs": [],
   "source": [
    "import pandas as pd\n",
    "import re, datetime, nltk, string\n",
    "from nltk.corpus import stopwords\n",
    "from collections import Counter,defaultdict\n",
    "import math\n",
    "import ast\n",
    "import sys\n",
    "import json\n",
    "from elasticsearch import Elasticsearch\n",
    "import datetime"
   ]
  },
  {
   "cell_type": "code",
   "execution_count": 2,
   "metadata": {
    "collapsed": false,
    "deletable": true,
    "editable": true
   },
   "outputs": [],
   "source": [
    "transcripts = pd.DataFrame.from_csv('ted_transcripts.csv').reset_index()"
   ]
  },
  {
   "cell_type": "code",
   "execution_count": 3,
   "metadata": {
    "collapsed": false,
    "deletable": true,
    "editable": true
   },
   "outputs": [],
   "source": [
    "transcripts['transcript'] = transcripts['transcript'].apply(lambda x: re.sub(r'\\([^()]*\\)', ' ', x))"
   ]
  },
  {
   "cell_type": "code",
   "execution_count": 4,
   "metadata": {
    "collapsed": true
   },
   "outputs": [],
   "source": [
    "# transcripts = transcripts.head(5)"
   ]
  },
  {
   "cell_type": "code",
   "execution_count": 5,
   "metadata": {
    "collapsed": false
   },
   "outputs": [
    {
     "name": "stderr",
     "output_type": "stream",
     "text": [
      "/Users/lucaverhees/anaconda2/lib/python2.7/site-packages/ipykernel/__main__.py:5: UnicodeWarning: Unicode equal comparison failed to convert both arguments to Unicode - interpreting them as being unequal\n"
     ]
    },
    {
     "name": "stdout",
     "output_type": "stream",
     "text": [
      "CPU times: user 9min 46s, sys: 1min, total: 10min 46s\n",
      "Wall time: 10min 54s\n"
     ]
    }
   ],
   "source": [
    "def tokenized(transcript):\n",
    "    tokens = defaultdict(int)\n",
    "    for word in transcript.split():\n",
    "        word = word.lower().translate(None, string.punctuation)\n",
    "        if word not in stopwords.words('english') and len(word) > 3:\n",
    "            tokens[word] += 1\n",
    "            \n",
    "    return tokens\n",
    "\n",
    "%time transcripts['tokenized'] = transcripts.apply(lambda row: tokenized(row['transcript']), axis=1)"
   ]
  },
  {
   "cell_type": "code",
   "execution_count": 6,
   "metadata": {
    "collapsed": false
   },
   "outputs": [
    {
     "name": "stderr",
     "output_type": "stream",
     "text": [
      "/Users/lucaverhees/anaconda2/lib/python2.7/site-packages/ipykernel/__main__.py:5: UnicodeWarning: Unicode equal comparison failed to convert both arguments to Unicode - interpreting them as being unequal\n"
     ]
    },
    {
     "name": "stdout",
     "output_type": "stream",
     "text": [
      "CPU times: user 9min 43s, sys: 1min, total: 10min 44s\n",
      "Wall time: 10min 53s\n"
     ]
    }
   ],
   "source": [
    "def tokenized(transcript):\n",
    "    tokens = defaultdict(int)\n",
    "    for word in transcript.split():\n",
    "        word = word.lower().translate(None, string.punctuation)\n",
    "        if word not in stopwords.words('english') and len(word) > 3:\n",
    "            tokens[word] += 1\n",
    "            \n",
    "    return tokens\n",
    "\n",
    "%time transcripts['tokenized'] = transcripts.apply(lambda row: tokenized(row['transcript']), axis=1)"
   ]
  },
  {
   "cell_type": "code",
   "execution_count": 7,
   "metadata": {
    "collapsed": false
   },
   "outputs": [
    {
     "name": "stdout",
     "output_type": "stream",
     "text": [
      "CPU times: user 116 ms, sys: 683 µs, total: 116 ms\n",
      "Wall time: 118 ms\n"
     ]
    }
   ],
   "source": [
    "%time transcripts['tokens'] = transcripts.apply(lambda row: row['tokenized'].keys(), axis=1)"
   ]
  },
  {
   "cell_type": "code",
   "execution_count": 8,
   "metadata": {
    "collapsed": false
   },
   "outputs": [
    {
     "name": "stdout",
     "output_type": "stream",
     "text": [
      "CPU times: user 1.3 s, sys: 4.77 ms, total: 1.3 s\n",
      "Wall time: 1.31 s\n"
     ]
    }
   ],
   "source": [
    "def V(df):\n",
    "    V = []\n",
    "    for row in df.itertuples():\n",
    "        V += row[3]\n",
    "    return list(set(V))\n",
    "    \n",
    "def compute_docfreq(df):\n",
    "    voc = V(df)\n",
    "    doc_freq = defaultdict(int)\n",
    "    for token in voc:\n",
    "        for row in df.itertuples():\n",
    "            if token in row[3]:\n",
    "                doc_freq[token] += 1\n",
    "    return doc_freq\n",
    "\n",
    "def create_word_cloud(tokens, N):\n",
    "    output = {}\n",
    "    for token, tf in tokens.iteritems():\n",
    "        output[token] = tf * (math.log(N/docf[token],10))\n",
    "    return \", \".join(dict(sorted(output.iteritems(), key=lambda x:-x[1])[:50]).keys())\n",
    "\n",
    "docf = compute_docfreq(transcripts)\n",
    "N = transcripts.shape[0]\n",
    "\n",
    "%time transcripts['word_cloud'] = transcripts.apply(lambda row: create_word_cloud(row['tokenized'],N), axis=1)"
   ]
  },
  {
   "cell_type": "code",
   "execution_count": 9,
   "metadata": {
    "collapsed": true
   },
   "outputs": [],
   "source": [
    "transcripts = transcripts.drop('tokenized', 1)"
   ]
  },
  {
   "cell_type": "code",
   "execution_count": 10,
   "metadata": {
    "collapsed": false
   },
   "outputs": [
    {
     "data": {
      "text/html": [
       "<div>\n",
       "<table border=\"1\" class=\"dataframe\">\n",
       "  <thead>\n",
       "    <tr style=\"text-align: right;\">\n",
       "      <th></th>\n",
       "      <th>transcript</th>\n",
       "      <th>url</th>\n",
       "      <th>tokens</th>\n",
       "      <th>word_cloud</th>\n",
       "    </tr>\n",
       "  </thead>\n",
       "  <tbody>\n",
       "    <tr>\n",
       "      <th>0</th>\n",
       "      <td>Good morning. How are you? It's been great, ha...</td>\n",
       "      <td>https://www.ted.com/talks/ken_robinson_says_sc...</td>\n",
       "      <td>[secondly, highlytalented, since, switched, da...</td>\n",
       "      <td>highlytalented, gillian, hears, hierarchy, roy...</td>\n",
       "    </tr>\n",
       "    <tr>\n",
       "      <th>1</th>\n",
       "      <td>Thank you so much, Chris. And it's truly a gre...</td>\n",
       "      <td>https://www.ted.com/talks/al_gore_on_averting_...</td>\n",
       "      <td>[monterey, consider, chain, global, focus, mon...</td>\n",
       "      <td>branding, calculator, washington, carbonneutra...</td>\n",
       "    </tr>\n",
       "    <tr>\n",
       "      <th>2</th>\n",
       "      <td>Hello voice mail, my old friend. I've called ...</td>\n",
       "      <td>https://www.ted.com/talks/david_pogue_says_sim...</td>\n",
       "      <td>[code, whoever, novelty, magnetic, global, mon...</td>\n",
       "      <td>cupertino, code, features, links, buttons, gad...</td>\n",
       "    </tr>\n",
       "    <tr>\n",
       "      <th>3</th>\n",
       "      <td>If you're here today — and I'm very happy that...</td>\n",
       "      <td>https://www.ted.com/talks/majora_carter_s_tale...</td>\n",
       "      <td>[surrounded, grassroots, dollar, atmosphere, f...</td>\n",
       "      <td>poor, neighborhood, grassroots, lowincome, com...</td>\n",
       "    </tr>\n",
       "    <tr>\n",
       "      <th>4</th>\n",
       "      <td>About 10 years ago, I took on the task to teac...</td>\n",
       "      <td>https://www.ted.com/talks/hans_rosling_shows_t...</td>\n",
       "      <td>[neighbors, incomewe, concept, searchable, glo...</td>\n",
       "      <td>expectancy, population, statistical, searchabl...</td>\n",
       "    </tr>\n",
       "  </tbody>\n",
       "</table>\n",
       "</div>"
      ],
      "text/plain": [
       "                                          transcript  \\\n",
       "0  Good morning. How are you? It's been great, ha...   \n",
       "1  Thank you so much, Chris. And it's truly a gre...   \n",
       "2   Hello voice mail, my old friend. I've called ...   \n",
       "3  If you're here today — and I'm very happy that...   \n",
       "4  About 10 years ago, I took on the task to teac...   \n",
       "\n",
       "                                                 url  \\\n",
       "0  https://www.ted.com/talks/ken_robinson_says_sc...   \n",
       "1  https://www.ted.com/talks/al_gore_on_averting_...   \n",
       "2  https://www.ted.com/talks/david_pogue_says_sim...   \n",
       "3  https://www.ted.com/talks/majora_carter_s_tale...   \n",
       "4  https://www.ted.com/talks/hans_rosling_shows_t...   \n",
       "\n",
       "                                              tokens  \\\n",
       "0  [secondly, highlytalented, since, switched, da...   \n",
       "1  [monterey, consider, chain, global, focus, mon...   \n",
       "2  [code, whoever, novelty, magnetic, global, mon...   \n",
       "3  [surrounded, grassroots, dollar, atmosphere, f...   \n",
       "4  [neighbors, incomewe, concept, searchable, glo...   \n",
       "\n",
       "                                          word_cloud  \n",
       "0  highlytalented, gillian, hears, hierarchy, roy...  \n",
       "1  branding, calculator, washington, carbonneutra...  \n",
       "2  cupertino, code, features, links, buttons, gad...  \n",
       "3  poor, neighborhood, grassroots, lowincome, com...  \n",
       "4  expectancy, population, statistical, searchabl...  "
      ]
     },
     "execution_count": 10,
     "metadata": {},
     "output_type": "execute_result"
    }
   ],
   "source": [
    "transcripts.head()"
   ]
  },
  {
   "cell_type": "markdown",
   "metadata": {},
   "source": [
    "<hr>"
   ]
  },
  {
   "cell_type": "code",
   "execution_count": 85,
   "metadata": {
    "collapsed": false,
    "deletable": true,
    "editable": true
   },
   "outputs": [],
   "source": [
    "metadata = pd.DataFrame.from_csv('ted_main.csv').reset_index()"
   ]
  },
  {
   "cell_type": "code",
   "execution_count": 86,
   "metadata": {
    "collapsed": false,
    "deletable": true,
    "editable": true
   },
   "outputs": [],
   "source": [
    "metadata['film_date']      = metadata['film_date'].apply(lambda x: datetime.datetime.fromtimestamp(int(x)).strftime('%Y-%m-%d'))\n",
    "metadata['published_date'] = metadata['published_date'].apply(lambda x: datetime.datetime.fromtimestamp(int(x)).strftime('%Y-%m-%d'))\n",
    "metadata['duration']       = metadata['duration'].apply(lambda x: str(x/60) + ':' + str(x%60))\n",
    "metadata['ratings']        = metadata['ratings'].apply(lambda x: \", \".join(str(x) for x in [rating[0] for rating in Counter({item['name']: item['count'] for item in ast.literal_eval(x)}).most_common(3)]) )\n",
    "metadata['tags']           = metadata['tags'].apply(lambda x: \", \".join(str(x) for x in ast.literal_eval(x)))\n",
    "metadata = metadata.drop('related_talks', 1)\n",
    "\n"
   ]
  },
  {
   "cell_type": "code",
   "execution_count": 87,
   "metadata": {
    "collapsed": false,
    "deletable": true,
    "editable": true,
    "scrolled": true
   },
   "outputs": [
    {
     "data": {
      "text/html": [
       "<div>\n",
       "<table border=\"1\" class=\"dataframe\">\n",
       "  <thead>\n",
       "    <tr style=\"text-align: right;\">\n",
       "      <th></th>\n",
       "      <th>comments</th>\n",
       "      <th>description</th>\n",
       "      <th>duration</th>\n",
       "      <th>event</th>\n",
       "      <th>film_date</th>\n",
       "      <th>languages</th>\n",
       "      <th>main_speaker</th>\n",
       "      <th>name</th>\n",
       "      <th>num_speaker</th>\n",
       "      <th>published_date</th>\n",
       "      <th>ratings</th>\n",
       "      <th>speaker_occupation</th>\n",
       "      <th>tags</th>\n",
       "      <th>title</th>\n",
       "      <th>url</th>\n",
       "      <th>views</th>\n",
       "    </tr>\n",
       "  </thead>\n",
       "  <tbody>\n",
       "    <tr>\n",
       "      <th>0</th>\n",
       "      <td>4553</td>\n",
       "      <td>Sir Ken Robinson makes an entertaining and pro...</td>\n",
       "      <td>19:24</td>\n",
       "      <td>TED2006</td>\n",
       "      <td>2006-02-25</td>\n",
       "      <td>60</td>\n",
       "      <td>Ken Robinson</td>\n",
       "      <td>Ken Robinson: Do schools kill creativity?</td>\n",
       "      <td>1</td>\n",
       "      <td>2006-06-27</td>\n",
       "      <td>Inspiring, Funny, Persuasive</td>\n",
       "      <td>Author/educator</td>\n",
       "      <td>children, creativity, culture, dance, educatio...</td>\n",
       "      <td>Do schools kill creativity?</td>\n",
       "      <td>https://www.ted.com/talks/ken_robinson_says_sc...</td>\n",
       "      <td>47227110</td>\n",
       "    </tr>\n",
       "    <tr>\n",
       "      <th>1</th>\n",
       "      <td>265</td>\n",
       "      <td>With the same humor and humanity he exuded in ...</td>\n",
       "      <td>16:17</td>\n",
       "      <td>TED2006</td>\n",
       "      <td>2006-02-25</td>\n",
       "      <td>43</td>\n",
       "      <td>Al Gore</td>\n",
       "      <td>Al Gore: Averting the climate crisis</td>\n",
       "      <td>1</td>\n",
       "      <td>2006-06-27</td>\n",
       "      <td>Funny, Informative, Inspiring</td>\n",
       "      <td>Climate advocate</td>\n",
       "      <td>alternative energy, cars, climate change, cult...</td>\n",
       "      <td>Averting the climate crisis</td>\n",
       "      <td>https://www.ted.com/talks/al_gore_on_averting_...</td>\n",
       "      <td>3200520</td>\n",
       "    </tr>\n",
       "    <tr>\n",
       "      <th>2</th>\n",
       "      <td>124</td>\n",
       "      <td>New York Times columnist David Pogue takes aim...</td>\n",
       "      <td>21:26</td>\n",
       "      <td>TED2006</td>\n",
       "      <td>2006-02-24</td>\n",
       "      <td>26</td>\n",
       "      <td>David Pogue</td>\n",
       "      <td>David Pogue: Simplicity sells</td>\n",
       "      <td>1</td>\n",
       "      <td>2006-06-27</td>\n",
       "      <td>Funny, Informative, Inspiring</td>\n",
       "      <td>Technology columnist</td>\n",
       "      <td>computers, entertainment, interface design, me...</td>\n",
       "      <td>Simplicity sells</td>\n",
       "      <td>https://www.ted.com/talks/david_pogue_says_sim...</td>\n",
       "      <td>1636292</td>\n",
       "    </tr>\n",
       "    <tr>\n",
       "      <th>3</th>\n",
       "      <td>200</td>\n",
       "      <td>In an emotionally charged talk, MacArthur-winn...</td>\n",
       "      <td>18:36</td>\n",
       "      <td>TED2006</td>\n",
       "      <td>2006-02-26</td>\n",
       "      <td>35</td>\n",
       "      <td>Majora Carter</td>\n",
       "      <td>Majora Carter: Greening the ghetto</td>\n",
       "      <td>1</td>\n",
       "      <td>2006-06-27</td>\n",
       "      <td>Inspiring, Courageous, Persuasive</td>\n",
       "      <td>Activist for environmental justice</td>\n",
       "      <td>MacArthur grant, activism, business, cities, e...</td>\n",
       "      <td>Greening the ghetto</td>\n",
       "      <td>https://www.ted.com/talks/majora_carter_s_tale...</td>\n",
       "      <td>1697550</td>\n",
       "    </tr>\n",
       "    <tr>\n",
       "      <th>4</th>\n",
       "      <td>593</td>\n",
       "      <td>You've never seen data presented like this. Wi...</td>\n",
       "      <td>19:50</td>\n",
       "      <td>TED2006</td>\n",
       "      <td>2006-02-22</td>\n",
       "      <td>48</td>\n",
       "      <td>Hans Rosling</td>\n",
       "      <td>Hans Rosling: The best stats you've ever seen</td>\n",
       "      <td>1</td>\n",
       "      <td>2006-06-27</td>\n",
       "      <td>Informative, Fascinating, Jaw-dropping</td>\n",
       "      <td>Global health expert; data visionary</td>\n",
       "      <td>Africa, Asia, Google, demo, economics, global ...</td>\n",
       "      <td>The best stats you've ever seen</td>\n",
       "      <td>https://www.ted.com/talks/hans_rosling_shows_t...</td>\n",
       "      <td>12005869</td>\n",
       "    </tr>\n",
       "  </tbody>\n",
       "</table>\n",
       "</div>"
      ],
      "text/plain": [
       "   comments                                        description duration  \\\n",
       "0      4553  Sir Ken Robinson makes an entertaining and pro...    19:24   \n",
       "1       265  With the same humor and humanity he exuded in ...    16:17   \n",
       "2       124  New York Times columnist David Pogue takes aim...    21:26   \n",
       "3       200  In an emotionally charged talk, MacArthur-winn...    18:36   \n",
       "4       593  You've never seen data presented like this. Wi...    19:50   \n",
       "\n",
       "     event   film_date  languages   main_speaker  \\\n",
       "0  TED2006  2006-02-25         60   Ken Robinson   \n",
       "1  TED2006  2006-02-25         43        Al Gore   \n",
       "2  TED2006  2006-02-24         26    David Pogue   \n",
       "3  TED2006  2006-02-26         35  Majora Carter   \n",
       "4  TED2006  2006-02-22         48   Hans Rosling   \n",
       "\n",
       "                                            name  num_speaker published_date  \\\n",
       "0      Ken Robinson: Do schools kill creativity?            1     2006-06-27   \n",
       "1           Al Gore: Averting the climate crisis            1     2006-06-27   \n",
       "2                  David Pogue: Simplicity sells            1     2006-06-27   \n",
       "3             Majora Carter: Greening the ghetto            1     2006-06-27   \n",
       "4  Hans Rosling: The best stats you've ever seen            1     2006-06-27   \n",
       "\n",
       "                                  ratings  \\\n",
       "0            Inspiring, Funny, Persuasive   \n",
       "1           Funny, Informative, Inspiring   \n",
       "2           Funny, Informative, Inspiring   \n",
       "3       Inspiring, Courageous, Persuasive   \n",
       "4  Informative, Fascinating, Jaw-dropping   \n",
       "\n",
       "                     speaker_occupation  \\\n",
       "0                       Author/educator   \n",
       "1                      Climate advocate   \n",
       "2                  Technology columnist   \n",
       "3    Activist for environmental justice   \n",
       "4  Global health expert; data visionary   \n",
       "\n",
       "                                                tags  \\\n",
       "0  children, creativity, culture, dance, educatio...   \n",
       "1  alternative energy, cars, climate change, cult...   \n",
       "2  computers, entertainment, interface design, me...   \n",
       "3  MacArthur grant, activism, business, cities, e...   \n",
       "4  Africa, Asia, Google, demo, economics, global ...   \n",
       "\n",
       "                             title  \\\n",
       "0      Do schools kill creativity?   \n",
       "1      Averting the climate crisis   \n",
       "2                 Simplicity sells   \n",
       "3              Greening the ghetto   \n",
       "4  The best stats you've ever seen   \n",
       "\n",
       "                                                 url     views  \n",
       "0  https://www.ted.com/talks/ken_robinson_says_sc...  47227110  \n",
       "1  https://www.ted.com/talks/al_gore_on_averting_...   3200520  \n",
       "2  https://www.ted.com/talks/david_pogue_says_sim...   1636292  \n",
       "3  https://www.ted.com/talks/majora_carter_s_tale...   1697550  \n",
       "4  https://www.ted.com/talks/hans_rosling_shows_t...  12005869  "
      ]
     },
     "execution_count": 87,
     "metadata": {},
     "output_type": "execute_result"
    }
   ],
   "source": [
    "metadata.head()"
   ]
  },
  {
   "cell_type": "markdown",
   "metadata": {},
   "source": [
    "<hr>"
   ]
  },
  {
   "cell_type": "code",
   "execution_count": 88,
   "metadata": {
    "collapsed": false,
    "deletable": true,
    "editable": true
   },
   "outputs": [
    {
     "data": {
      "text/html": [
       "<div>\n",
       "<table border=\"1\" class=\"dataframe\">\n",
       "  <thead>\n",
       "    <tr style=\"text-align: right;\">\n",
       "      <th></th>\n",
       "      <th>comments</th>\n",
       "      <th>description</th>\n",
       "      <th>duration</th>\n",
       "      <th>event</th>\n",
       "      <th>film_date</th>\n",
       "      <th>languages</th>\n",
       "      <th>main_speaker</th>\n",
       "      <th>name</th>\n",
       "      <th>num_speaker</th>\n",
       "      <th>published_date</th>\n",
       "      <th>ratings</th>\n",
       "      <th>speaker_occupation</th>\n",
       "      <th>tags</th>\n",
       "      <th>title</th>\n",
       "      <th>url</th>\n",
       "      <th>views</th>\n",
       "      <th>transcript</th>\n",
       "      <th>tokens</th>\n",
       "      <th>word_cloud</th>\n",
       "    </tr>\n",
       "  </thead>\n",
       "  <tbody>\n",
       "    <tr>\n",
       "      <th>0</th>\n",
       "      <td>4553</td>\n",
       "      <td>Sir Ken Robinson makes an entertaining and pro...</td>\n",
       "      <td>19:24</td>\n",
       "      <td>TED2006</td>\n",
       "      <td>2006-02-25</td>\n",
       "      <td>60</td>\n",
       "      <td>Ken Robinson</td>\n",
       "      <td>Ken Robinson: Do schools kill creativity?</td>\n",
       "      <td>1</td>\n",
       "      <td>2006-06-27</td>\n",
       "      <td>Inspiring, Funny, Persuasive</td>\n",
       "      <td>Author/educator</td>\n",
       "      <td>children, creativity, culture, dance, educatio...</td>\n",
       "      <td>Do schools kill creativity?</td>\n",
       "      <td>https://www.ted.com/talks/ken_robinson_says_sc...</td>\n",
       "      <td>47227110</td>\n",
       "      <td>Good morning. How are you? It's been great, ha...</td>\n",
       "      <td>[secondly, highlytalented, since, switched, da...</td>\n",
       "      <td>highlytalented, gillian, hears, hierarchy, roy...</td>\n",
       "    </tr>\n",
       "    <tr>\n",
       "      <th>1</th>\n",
       "      <td>265</td>\n",
       "      <td>With the same humor and humanity he exuded in ...</td>\n",
       "      <td>16:17</td>\n",
       "      <td>TED2006</td>\n",
       "      <td>2006-02-25</td>\n",
       "      <td>43</td>\n",
       "      <td>Al Gore</td>\n",
       "      <td>Al Gore: Averting the climate crisis</td>\n",
       "      <td>1</td>\n",
       "      <td>2006-06-27</td>\n",
       "      <td>Funny, Informative, Inspiring</td>\n",
       "      <td>Climate advocate</td>\n",
       "      <td>alternative energy, cars, climate change, cult...</td>\n",
       "      <td>Averting the climate crisis</td>\n",
       "      <td>https://www.ted.com/talks/al_gore_on_averting_...</td>\n",
       "      <td>3200520</td>\n",
       "      <td>Thank you so much, Chris. And it's truly a gre...</td>\n",
       "      <td>[monterey, consider, chain, global, focus, mon...</td>\n",
       "      <td>branding, calculator, washington, carbonneutra...</td>\n",
       "    </tr>\n",
       "    <tr>\n",
       "      <th>2</th>\n",
       "      <td>124</td>\n",
       "      <td>New York Times columnist David Pogue takes aim...</td>\n",
       "      <td>21:26</td>\n",
       "      <td>TED2006</td>\n",
       "      <td>2006-02-24</td>\n",
       "      <td>26</td>\n",
       "      <td>David Pogue</td>\n",
       "      <td>David Pogue: Simplicity sells</td>\n",
       "      <td>1</td>\n",
       "      <td>2006-06-27</td>\n",
       "      <td>Funny, Informative, Inspiring</td>\n",
       "      <td>Technology columnist</td>\n",
       "      <td>computers, entertainment, interface design, me...</td>\n",
       "      <td>Simplicity sells</td>\n",
       "      <td>https://www.ted.com/talks/david_pogue_says_sim...</td>\n",
       "      <td>1636292</td>\n",
       "      <td>Hello voice mail, my old friend. I've called ...</td>\n",
       "      <td>[code, whoever, novelty, magnetic, global, mon...</td>\n",
       "      <td>cupertino, code, features, links, buttons, gad...</td>\n",
       "    </tr>\n",
       "    <tr>\n",
       "      <th>3</th>\n",
       "      <td>200</td>\n",
       "      <td>In an emotionally charged talk, MacArthur-winn...</td>\n",
       "      <td>18:36</td>\n",
       "      <td>TED2006</td>\n",
       "      <td>2006-02-26</td>\n",
       "      <td>35</td>\n",
       "      <td>Majora Carter</td>\n",
       "      <td>Majora Carter: Greening the ghetto</td>\n",
       "      <td>1</td>\n",
       "      <td>2006-06-27</td>\n",
       "      <td>Inspiring, Courageous, Persuasive</td>\n",
       "      <td>Activist for environmental justice</td>\n",
       "      <td>MacArthur grant, activism, business, cities, e...</td>\n",
       "      <td>Greening the ghetto</td>\n",
       "      <td>https://www.ted.com/talks/majora_carter_s_tale...</td>\n",
       "      <td>1697550</td>\n",
       "      <td>If you're here today — and I'm very happy that...</td>\n",
       "      <td>[surrounded, grassroots, dollar, atmosphere, f...</td>\n",
       "      <td>poor, neighborhood, grassroots, lowincome, com...</td>\n",
       "    </tr>\n",
       "    <tr>\n",
       "      <th>4</th>\n",
       "      <td>593</td>\n",
       "      <td>You've never seen data presented like this. Wi...</td>\n",
       "      <td>19:50</td>\n",
       "      <td>TED2006</td>\n",
       "      <td>2006-02-22</td>\n",
       "      <td>48</td>\n",
       "      <td>Hans Rosling</td>\n",
       "      <td>Hans Rosling: The best stats you've ever seen</td>\n",
       "      <td>1</td>\n",
       "      <td>2006-06-27</td>\n",
       "      <td>Informative, Fascinating, Jaw-dropping</td>\n",
       "      <td>Global health expert; data visionary</td>\n",
       "      <td>Africa, Asia, Google, demo, economics, global ...</td>\n",
       "      <td>The best stats you've ever seen</td>\n",
       "      <td>https://www.ted.com/talks/hans_rosling_shows_t...</td>\n",
       "      <td>12005869</td>\n",
       "      <td>About 10 years ago, I took on the task to teac...</td>\n",
       "      <td>[neighbors, incomewe, concept, searchable, glo...</td>\n",
       "      <td>expectancy, population, statistical, searchabl...</td>\n",
       "    </tr>\n",
       "  </tbody>\n",
       "</table>\n",
       "</div>"
      ],
      "text/plain": [
       "   comments                                        description duration  \\\n",
       "0      4553  Sir Ken Robinson makes an entertaining and pro...    19:24   \n",
       "1       265  With the same humor and humanity he exuded in ...    16:17   \n",
       "2       124  New York Times columnist David Pogue takes aim...    21:26   \n",
       "3       200  In an emotionally charged talk, MacArthur-winn...    18:36   \n",
       "4       593  You've never seen data presented like this. Wi...    19:50   \n",
       "\n",
       "     event   film_date  languages   main_speaker  \\\n",
       "0  TED2006  2006-02-25         60   Ken Robinson   \n",
       "1  TED2006  2006-02-25         43        Al Gore   \n",
       "2  TED2006  2006-02-24         26    David Pogue   \n",
       "3  TED2006  2006-02-26         35  Majora Carter   \n",
       "4  TED2006  2006-02-22         48   Hans Rosling   \n",
       "\n",
       "                                            name  num_speaker published_date  \\\n",
       "0      Ken Robinson: Do schools kill creativity?            1     2006-06-27   \n",
       "1           Al Gore: Averting the climate crisis            1     2006-06-27   \n",
       "2                  David Pogue: Simplicity sells            1     2006-06-27   \n",
       "3             Majora Carter: Greening the ghetto            1     2006-06-27   \n",
       "4  Hans Rosling: The best stats you've ever seen            1     2006-06-27   \n",
       "\n",
       "                                  ratings  \\\n",
       "0            Inspiring, Funny, Persuasive   \n",
       "1           Funny, Informative, Inspiring   \n",
       "2           Funny, Informative, Inspiring   \n",
       "3       Inspiring, Courageous, Persuasive   \n",
       "4  Informative, Fascinating, Jaw-dropping   \n",
       "\n",
       "                     speaker_occupation  \\\n",
       "0                       Author/educator   \n",
       "1                      Climate advocate   \n",
       "2                  Technology columnist   \n",
       "3    Activist for environmental justice   \n",
       "4  Global health expert; data visionary   \n",
       "\n",
       "                                                tags  \\\n",
       "0  children, creativity, culture, dance, educatio...   \n",
       "1  alternative energy, cars, climate change, cult...   \n",
       "2  computers, entertainment, interface design, me...   \n",
       "3  MacArthur grant, activism, business, cities, e...   \n",
       "4  Africa, Asia, Google, demo, economics, global ...   \n",
       "\n",
       "                             title  \\\n",
       "0      Do schools kill creativity?   \n",
       "1      Averting the climate crisis   \n",
       "2                 Simplicity sells   \n",
       "3              Greening the ghetto   \n",
       "4  The best stats you've ever seen   \n",
       "\n",
       "                                                 url     views  \\\n",
       "0  https://www.ted.com/talks/ken_robinson_says_sc...  47227110   \n",
       "1  https://www.ted.com/talks/al_gore_on_averting_...   3200520   \n",
       "2  https://www.ted.com/talks/david_pogue_says_sim...   1636292   \n",
       "3  https://www.ted.com/talks/majora_carter_s_tale...   1697550   \n",
       "4  https://www.ted.com/talks/hans_rosling_shows_t...  12005869   \n",
       "\n",
       "                                          transcript  \\\n",
       "0  Good morning. How are you? It's been great, ha...   \n",
       "1  Thank you so much, Chris. And it's truly a gre...   \n",
       "2   Hello voice mail, my old friend. I've called ...   \n",
       "3  If you're here today — and I'm very happy that...   \n",
       "4  About 10 years ago, I took on the task to teac...   \n",
       "\n",
       "                                              tokens  \\\n",
       "0  [secondly, highlytalented, since, switched, da...   \n",
       "1  [monterey, consider, chain, global, focus, mon...   \n",
       "2  [code, whoever, novelty, magnetic, global, mon...   \n",
       "3  [surrounded, grassroots, dollar, atmosphere, f...   \n",
       "4  [neighbors, incomewe, concept, searchable, glo...   \n",
       "\n",
       "                                          word_cloud  \n",
       "0  highlytalented, gillian, hears, hierarchy, roy...  \n",
       "1  branding, calculator, washington, carbonneutra...  \n",
       "2  cupertino, code, features, links, buttons, gad...  \n",
       "3  poor, neighborhood, grassroots, lowincome, com...  \n",
       "4  expectancy, population, statistical, searchabl...  "
      ]
     },
     "execution_count": 88,
     "metadata": {},
     "output_type": "execute_result"
    }
   ],
   "source": [
    "tedTalksData = pd.merge(metadata, transcripts, on = \"url\")\n",
    "tedTalksData.head()"
   ]
  },
  {
   "cell_type": "code",
   "execution_count": 89,
   "metadata": {
    "collapsed": true
   },
   "outputs": [],
   "source": [
    "tedTalksData.to_json('tedTalksData.json', orient='index')"
   ]
  },
  {
   "cell_type": "code",
   "execution_count": 90,
   "metadata": {
    "collapsed": false,
    "deletable": true,
    "editable": true
   },
   "outputs": [],
   "source": [
    "# Create test set\n",
    "test = tedTalksData.head(11)\n",
    "test.to_json('tedTalksData_test.json', orient='index')"
   ]
  },
  {
   "cell_type": "markdown",
   "metadata": {},
   "source": [
    "# Elastic Search & Kibana"
   ]
  },
  {
   "cell_type": "code",
   "execution_count": 91,
   "metadata": {
    "collapsed": false
   },
   "outputs": [],
   "source": [
    "HOST = 'http://localhost:9200/'\n",
    "es = Elasticsearch(hosts=[HOST])"
   ]
  },
  {
   "cell_type": "code",
   "execution_count": 97,
   "metadata": {
    "collapsed": false
   },
   "outputs": [
    {
     "data": {
      "text/plain": [
       "{u'acknowledged': True}"
      ]
     },
     "execution_count": 97,
     "metadata": {},
     "output_type": "execute_result"
    }
   ],
   "source": [
    "# Delete index if it already exists to prevent conflicts\n",
    "es.indices.delete(index='ted-talks', ignore=[400, 404]) "
   ]
  },
  {
   "cell_type": "code",
   "execution_count": 98,
   "metadata": {
    "collapsed": false
   },
   "outputs": [
    {
     "name": "stdout",
     "output_type": "stream",
     "text": [
      "{\"acknowledged\":true,\"shards_acknowledged\":true,\"index\":\"ted-talks\"}"
     ]
    }
   ],
   "source": [
    "# Create index with proper mapping\n",
    "! curl -X PUT \"http://localhost:9200/ted-talks/\" -d '{ \"settings\" : { \"number_of_shards\" : 1 }, \"mappings\" : { \"talks\" : { \"properties\" : { \"comments\" : { \"type\" : \"long\" }, \"description\": { \"type\": \"text\" }, \"duration\" : { \"type\" : \"text\" }, \"event\" : { \"type\" : \"text\" }, \"film_date\" : { \"type\" : \"date\" }, \"languages\" : { \"type\" : \"long\" }, \"main_speaker\" : { \"type\" : \"text\" }, \"name\" : { \"type\" : \"text\" }, \"num_speaker\" : { \"type\" : \"long\" }, \"published_date\" : { \"type\" : \"date\" }, \"ratings\" : { \"type\": \"text\", \"fielddata\": true, \"fields\": { \"raw\": { \"type\": \"keyword\" } } }, \"speaker_occupation\" : { \"type\" : \"text\" }, \"tags\" : { \"type\": \"text\", \"fielddata\": true, \"fields\": { \"raw\": { \"type\": \"keyword\" } } }, \"title\" : { \"type\" : \"text\" }, \"url\" : { \"type\" : \"text\" }, \"views\" : { \"type\" : \"long\" }, \"transcript\": { \"type\": \"text\", \"index\": \"no\" } , \"tokenized\": { \"type\": \"text\", \"fielddata\": true, \"fields\": { \"raw\": { \"type\": \"keyword\" } } }, \"word_cloud\" : { \"type\": \"text\", \"fielddata\": true, \"fields\": { \"raw\": { \"type\": \"keyword\" } } } } } } }'\n"
   ]
  },
  {
   "cell_type": "code",
   "execution_count": 99,
   "metadata": {
    "collapsed": false
   },
   "outputs": [
    {
     "data": {
      "text/plain": [
       "{u'_shards': {u'failed': 0, u'skipped': 0, u'successful': 1, u'total': 1},\n",
       " u'count': 2300}"
      ]
     },
     "execution_count": 99,
     "metadata": {},
     "output_type": "execute_result"
    }
   ],
   "source": [
    "# Load data from JSON file and import in index\n",
    "with open('tedTalksData.json') as data_file:    \n",
    "    data = json.load(data_file)\n",
    "    \n",
    "for index, row in data.iteritems():\n",
    "    es.index(index='ted-talks', doc_type='talks', id=index, body=row)\n",
    "es.count(index='ted-talks')"
   ]
  },
  {
   "cell_type": "code",
   "execution_count": null,
   "metadata": {
    "collapsed": true
   },
   "outputs": [],
   "source": []
  }
 ],
 "metadata": {
  "kernelspec": {
   "display_name": "Python 2",
   "language": "python",
   "name": "python2"
  },
  "language_info": {
   "codemirror_mode": {
    "name": "ipython",
    "version": 2
   },
   "file_extension": ".py",
   "mimetype": "text/x-python",
   "name": "python",
   "nbconvert_exporter": "python",
   "pygments_lexer": "ipython2",
   "version": "2.7.13"
  }
 },
 "nbformat": 4,
 "nbformat_minor": 2
}
