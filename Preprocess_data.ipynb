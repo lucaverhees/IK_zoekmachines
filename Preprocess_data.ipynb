{
 "cells": [
  {
   "cell_type": "markdown",
   "metadata": {},
   "source": [
    "# Preparing data (JSON export)"
   ]
  },
  {
   "cell_type": "code",
   "execution_count": 1,
   "metadata": {
    "collapsed": false,
    "deletable": true,
    "editable": true
   },
   "outputs": [],
   "source": [
    "import pandas as pd\n",
    "import re, datetime, nltk, string\n",
    "from nltk.corpus import stopwords\n",
    "from collections import Counter,defaultdict\n",
    "import math\n",
    "import ast\n",
    "import sys\n",
    "import json\n",
    "from elasticsearch import Elasticsearch\n",
    "import datetime"
   ]
  },
  {
   "cell_type": "code",
   "execution_count": 2,
   "metadata": {
    "collapsed": false,
    "deletable": true,
    "editable": true
   },
   "outputs": [],
   "source": [
    "# Load first CSV file containing transcripts\n",
    "transcripts = pd.DataFrame.from_csv('ted_transcripts.csv').reset_index()"
   ]
  },
  {
   "cell_type": "code",
   "execution_count": 3,
   "metadata": {
    "collapsed": false,
    "deletable": true,
    "editable": true
   },
   "outputs": [],
   "source": [
    "# Removing irrelevant comments from transcripts \n",
    "transcripts['transcript'] = transcripts['transcript'].apply(lambda x: re.sub(r'\\([^()]*\\)', ' ', x))"
   ]
  },
  {
   "cell_type": "code",
   "execution_count": 4,
   "metadata": {
    "collapsed": false
   },
   "outputs": [
    {
     "name": "stderr",
     "output_type": "stream",
     "text": [
      "/Users/lucaverhees/anaconda2/lib/python2.7/site-packages/ipykernel/__main__.py:5: UnicodeWarning: Unicode equal comparison failed to convert both arguments to Unicode - interpreting them as being unequal\n"
     ]
    },
    {
     "name": "stdout",
     "output_type": "stream",
     "text": [
      "CPU times: user 10min, sys: 1min 4s, total: 11min 5s\n",
      "Wall time: 11min 21s\n"
     ]
    }
   ],
   "source": [
    "def tokenizeString(transcript):\n",
    "    '''\n",
    "    Return dictionary with tokens as keys and term frequencies as values based on the input of a string.\n",
    "    '''\n",
    "    tokens = defaultdict(int)\n",
    "    for word in transcript.split():\n",
    "        word = word.lower().translate(None, string.punctuation)\n",
    "        if word not in stopwords.words('english') and len(word) > 3:\n",
    "            tokens[word] += 1\n",
    "            \n",
    "    return tokens\n",
    "\n",
    "# Adding column with tokens and TF(t,d)\n",
    "%time transcripts['tokenized'] = transcripts.apply(lambda row: tokenizeString(row['transcript']), axis=1)"
   ]
  },
  {
   "cell_type": "code",
   "execution_count": 5,
   "metadata": {
    "collapsed": false
   },
   "outputs": [
    {
     "name": "stdout",
     "output_type": "stream",
     "text": [
      "CPU times: user 643 ms, sys: 19.3 ms, total: 662 ms\n",
      "Wall time: 693 ms\n"
     ]
    }
   ],
   "source": [
    "# Adding column with tokens only\n",
    "%time transcripts['tokens'] = transcripts.apply(lambda row: [key for key, value in row['tokenized'].iteritems() for i in range(value)], axis=1)"
   ]
  },
  {
   "cell_type": "code",
   "execution_count": 6,
   "metadata": {
    "collapsed": false
   },
   "outputs": [
    {
     "name": "stdout",
     "output_type": "stream",
     "text": [
      "CPU times: user 1.25 s, sys: 5.27 ms, total: 1.26 s\n",
      "Wall time: 1.27 s\n"
     ]
    }
   ],
   "source": [
    "def ExtractVocabulary(df):\n",
    "    '''\n",
    "    Function to extract the vocabulary based on the input of a dataframe.\n",
    "    '''\n",
    "    V = []\n",
    "    for row in df.itertuples():\n",
    "        V += row[3]\n",
    "    return list(set(V))\n",
    "    \n",
    "def ComputeDocFreq(df):\n",
    "    '''\n",
    "    Function to compute the document frequency for every term in a dataframe.\n",
    "    '''\n",
    "    voc = ExtractVocabulary(df)\n",
    "    doc_freq = defaultdict(int)\n",
    "    for token in voc:\n",
    "        for row in df.itertuples():\n",
    "            if token in row[3]:\n",
    "                doc_freq[token] += 1\n",
    "    return doc_freq\n",
    "\n",
    "def CreateWordCloud(tokens, N):\n",
    "    output = {}\n",
    "    for token, tf in tokens.iteritems():\n",
    "        output[token] = tf * (math.log(N/docf[token],10))\n",
    "    return \", \".join(dict(sorted(output.iteritems(), key=lambda x:-x[1])[:50]).keys())\n",
    "\n",
    "# Using TF-IDF a column with wordclouds for every document are \n",
    "# added with the 50 most important words for that doc\n",
    "docf = ComputeDocFreq(transcripts)\n",
    "N = transcripts.shape[0]\n",
    "\n",
    "%time transcripts['word_cloud'] = transcripts.apply(lambda row: CreateWordCloud(row['tokenized'],N), axis=1)"
   ]
  },
  {
   "cell_type": "code",
   "execution_count": 7,
   "metadata": {
    "collapsed": true
   },
   "outputs": [],
   "source": [
    "# After word cloud is computed, the column tokenizedis \n",
    "# not necessary anymore, so it is dropped from the dataframe\n",
    "transcripts = transcripts.drop('tokenized', 1)"
   ]
  },
  {
   "cell_type": "code",
   "execution_count": 8,
   "metadata": {
    "collapsed": false
   },
   "outputs": [
    {
     "data": {
      "text/html": [
       "<div>\n",
       "<table border=\"1\" class=\"dataframe\">\n",
       "  <thead>\n",
       "    <tr style=\"text-align: right;\">\n",
       "      <th></th>\n",
       "      <th>transcript</th>\n",
       "      <th>url</th>\n",
       "      <th>tokens</th>\n",
       "      <th>word_cloud</th>\n",
       "    </tr>\n",
       "  </thead>\n",
       "  <tbody>\n",
       "    <tr>\n",
       "      <th>0</th>\n",
       "      <td>Good morning. How are you? It's been great, ha...</td>\n",
       "      <td>https://www.ted.com/talks/ken_robinson_says_sc...</td>\n",
       "      <td>[secondly, highlytalented, since, switched, da...</td>\n",
       "      <td>highlytalented, gillian, hears, hierarchy, roy...</td>\n",
       "    </tr>\n",
       "    <tr>\n",
       "      <th>1</th>\n",
       "      <td>Thank you so much, Chris. And it's truly a gre...</td>\n",
       "      <td>https://www.ted.com/talks/al_gore_on_averting_...</td>\n",
       "      <td>[monterey, consider, consider, consider, chain...</td>\n",
       "      <td>branding, calculator, washington, carbonneutra...</td>\n",
       "    </tr>\n",
       "    <tr>\n",
       "      <th>2</th>\n",
       "      <td>Hello voice mail, my old friend. I've called ...</td>\n",
       "      <td>https://www.ted.com/talks/david_pogue_says_sim...</td>\n",
       "      <td>[code, code, code, code, code, code, whoever, ...</td>\n",
       "      <td>cupertino, code, features, links, buttons, gad...</td>\n",
       "    </tr>\n",
       "    <tr>\n",
       "      <th>3</th>\n",
       "      <td>If you're here today — and I'm very happy that...</td>\n",
       "      <td>https://www.ted.com/talks/majora_carter_s_tale...</td>\n",
       "      <td>[surrounded, grassroots, grassroots, dollar, a...</td>\n",
       "      <td>poor, neighborhood, grassroots, lowincome, com...</td>\n",
       "    </tr>\n",
       "    <tr>\n",
       "      <th>4</th>\n",
       "      <td>About 10 years ago, I took on the task to teac...</td>\n",
       "      <td>https://www.ted.com/talks/hans_rosling_shows_t...</td>\n",
       "      <td>[neighbors, incomewe, concept, concept, search...</td>\n",
       "      <td>expectancy, population, statistical, searchabl...</td>\n",
       "    </tr>\n",
       "  </tbody>\n",
       "</table>\n",
       "</div>"
      ],
      "text/plain": [
       "                                          transcript  \\\n",
       "0  Good morning. How are you? It's been great, ha...   \n",
       "1  Thank you so much, Chris. And it's truly a gre...   \n",
       "2   Hello voice mail, my old friend. I've called ...   \n",
       "3  If you're here today — and I'm very happy that...   \n",
       "4  About 10 years ago, I took on the task to teac...   \n",
       "\n",
       "                                                 url  \\\n",
       "0  https://www.ted.com/talks/ken_robinson_says_sc...   \n",
       "1  https://www.ted.com/talks/al_gore_on_averting_...   \n",
       "2  https://www.ted.com/talks/david_pogue_says_sim...   \n",
       "3  https://www.ted.com/talks/majora_carter_s_tale...   \n",
       "4  https://www.ted.com/talks/hans_rosling_shows_t...   \n",
       "\n",
       "                                              tokens  \\\n",
       "0  [secondly, highlytalented, since, switched, da...   \n",
       "1  [monterey, consider, consider, consider, chain...   \n",
       "2  [code, code, code, code, code, code, whoever, ...   \n",
       "3  [surrounded, grassroots, grassroots, dollar, a...   \n",
       "4  [neighbors, incomewe, concept, concept, search...   \n",
       "\n",
       "                                          word_cloud  \n",
       "0  highlytalented, gillian, hears, hierarchy, roy...  \n",
       "1  branding, calculator, washington, carbonneutra...  \n",
       "2  cupertino, code, features, links, buttons, gad...  \n",
       "3  poor, neighborhood, grassroots, lowincome, com...  \n",
       "4  expectancy, population, statistical, searchabl...  "
      ]
     },
     "execution_count": 8,
     "metadata": {},
     "output_type": "execute_result"
    }
   ],
   "source": [
    "# This is what the transcripts dataframe looks like right now\n",
    "transcripts.head()"
   ]
  },
  {
   "cell_type": "markdown",
   "metadata": {},
   "source": [
    "<hr>"
   ]
  },
  {
   "cell_type": "code",
   "execution_count": 9,
   "metadata": {
    "collapsed": false,
    "deletable": true,
    "editable": true
   },
   "outputs": [],
   "source": [
    "# Loading the csv with the metadata for all the TED talks\n",
    "metadata = pd.DataFrame.from_csv('ted_main.csv').reset_index()"
   ]
  },
  {
   "cell_type": "code",
   "execution_count": 10,
   "metadata": {
    "collapsed": false,
    "deletable": true,
    "editable": true
   },
   "outputs": [],
   "source": [
    "# In order to make the dataset searchable, some columns are edited/converted\n",
    "# Changing the format of film_date and published_date to a format Elastic Search can understand\n",
    "metadata['film_date']      = metadata['film_date'].apply(lambda x: datetime.datetime.fromtimestamp(int(x)).strftime('%Y-%m-%d'))\n",
    "metadata['published_date'] = metadata['published_date'].apply(lambda x: datetime.datetime.fromtimestamp(int(x)).strftime('%Y-%m-%d'))\n",
    "\n",
    "# Converting the duration from seconds to a more readable format MM:SS\n",
    "metadata['duration']       = metadata['duration'].apply(lambda x: str(x/60) + ':' + str(x%60))\n",
    "\n",
    "# Filtering only the three ratings with the highest score, the others are not relevant \n",
    "metadata['ratings']        = metadata['ratings'].apply(lambda x: \", \".join(str(x) for x in [rating[0] for rating in Counter({item['name']: item['count'] for item in ast.literal_eval(x)}).most_common(3)]) )\n",
    "\n",
    "# Converting the tags to a string, so Elastic Search will interpret it correctly\n",
    "metadata['tags']           = metadata['tags'].apply(lambda x: \", \".join(str(x) for x in ast.literal_eval(x)))\n",
    "\n",
    "# We decided to drop the column related talks, since this only contains speaker names and URLS and it will only\n",
    "# provide noise when ranking documents / performing searches\n",
    "metadata = metadata.drop('related_talks', 1)"
   ]
  },
  {
   "cell_type": "code",
   "execution_count": 11,
   "metadata": {
    "collapsed": false,
    "deletable": true,
    "editable": true,
    "scrolled": true
   },
   "outputs": [
    {
     "data": {
      "text/html": [
       "<div>\n",
       "<table border=\"1\" class=\"dataframe\">\n",
       "  <thead>\n",
       "    <tr style=\"text-align: right;\">\n",
       "      <th></th>\n",
       "      <th>comments</th>\n",
       "      <th>description</th>\n",
       "      <th>duration</th>\n",
       "      <th>event</th>\n",
       "      <th>film_date</th>\n",
       "      <th>languages</th>\n",
       "      <th>main_speaker</th>\n",
       "      <th>name</th>\n",
       "      <th>num_speaker</th>\n",
       "      <th>published_date</th>\n",
       "      <th>ratings</th>\n",
       "      <th>speaker_occupation</th>\n",
       "      <th>tags</th>\n",
       "      <th>title</th>\n",
       "      <th>url</th>\n",
       "      <th>views</th>\n",
       "    </tr>\n",
       "  </thead>\n",
       "  <tbody>\n",
       "    <tr>\n",
       "      <th>0</th>\n",
       "      <td>4553</td>\n",
       "      <td>Sir Ken Robinson makes an entertaining and pro...</td>\n",
       "      <td>19:24</td>\n",
       "      <td>TED2006</td>\n",
       "      <td>2006-02-25</td>\n",
       "      <td>60</td>\n",
       "      <td>Ken Robinson</td>\n",
       "      <td>Ken Robinson: Do schools kill creativity?</td>\n",
       "      <td>1</td>\n",
       "      <td>2006-06-27</td>\n",
       "      <td>Inspiring, Funny, Persuasive</td>\n",
       "      <td>Author/educator</td>\n",
       "      <td>children, creativity, culture, dance, educatio...</td>\n",
       "      <td>Do schools kill creativity?</td>\n",
       "      <td>https://www.ted.com/talks/ken_robinson_says_sc...</td>\n",
       "      <td>47227110</td>\n",
       "    </tr>\n",
       "    <tr>\n",
       "      <th>1</th>\n",
       "      <td>265</td>\n",
       "      <td>With the same humor and humanity he exuded in ...</td>\n",
       "      <td>16:17</td>\n",
       "      <td>TED2006</td>\n",
       "      <td>2006-02-25</td>\n",
       "      <td>43</td>\n",
       "      <td>Al Gore</td>\n",
       "      <td>Al Gore: Averting the climate crisis</td>\n",
       "      <td>1</td>\n",
       "      <td>2006-06-27</td>\n",
       "      <td>Funny, Informative, Inspiring</td>\n",
       "      <td>Climate advocate</td>\n",
       "      <td>alternative energy, cars, climate change, cult...</td>\n",
       "      <td>Averting the climate crisis</td>\n",
       "      <td>https://www.ted.com/talks/al_gore_on_averting_...</td>\n",
       "      <td>3200520</td>\n",
       "    </tr>\n",
       "    <tr>\n",
       "      <th>2</th>\n",
       "      <td>124</td>\n",
       "      <td>New York Times columnist David Pogue takes aim...</td>\n",
       "      <td>21:26</td>\n",
       "      <td>TED2006</td>\n",
       "      <td>2006-02-24</td>\n",
       "      <td>26</td>\n",
       "      <td>David Pogue</td>\n",
       "      <td>David Pogue: Simplicity sells</td>\n",
       "      <td>1</td>\n",
       "      <td>2006-06-27</td>\n",
       "      <td>Funny, Informative, Inspiring</td>\n",
       "      <td>Technology columnist</td>\n",
       "      <td>computers, entertainment, interface design, me...</td>\n",
       "      <td>Simplicity sells</td>\n",
       "      <td>https://www.ted.com/talks/david_pogue_says_sim...</td>\n",
       "      <td>1636292</td>\n",
       "    </tr>\n",
       "    <tr>\n",
       "      <th>3</th>\n",
       "      <td>200</td>\n",
       "      <td>In an emotionally charged talk, MacArthur-winn...</td>\n",
       "      <td>18:36</td>\n",
       "      <td>TED2006</td>\n",
       "      <td>2006-02-26</td>\n",
       "      <td>35</td>\n",
       "      <td>Majora Carter</td>\n",
       "      <td>Majora Carter: Greening the ghetto</td>\n",
       "      <td>1</td>\n",
       "      <td>2006-06-27</td>\n",
       "      <td>Inspiring, Courageous, Persuasive</td>\n",
       "      <td>Activist for environmental justice</td>\n",
       "      <td>MacArthur grant, activism, business, cities, e...</td>\n",
       "      <td>Greening the ghetto</td>\n",
       "      <td>https://www.ted.com/talks/majora_carter_s_tale...</td>\n",
       "      <td>1697550</td>\n",
       "    </tr>\n",
       "    <tr>\n",
       "      <th>4</th>\n",
       "      <td>593</td>\n",
       "      <td>You've never seen data presented like this. Wi...</td>\n",
       "      <td>19:50</td>\n",
       "      <td>TED2006</td>\n",
       "      <td>2006-02-22</td>\n",
       "      <td>48</td>\n",
       "      <td>Hans Rosling</td>\n",
       "      <td>Hans Rosling: The best stats you've ever seen</td>\n",
       "      <td>1</td>\n",
       "      <td>2006-06-27</td>\n",
       "      <td>Informative, Fascinating, Jaw-dropping</td>\n",
       "      <td>Global health expert; data visionary</td>\n",
       "      <td>Africa, Asia, Google, demo, economics, global ...</td>\n",
       "      <td>The best stats you've ever seen</td>\n",
       "      <td>https://www.ted.com/talks/hans_rosling_shows_t...</td>\n",
       "      <td>12005869</td>\n",
       "    </tr>\n",
       "  </tbody>\n",
       "</table>\n",
       "</div>"
      ],
      "text/plain": [
       "   comments                                        description duration  \\\n",
       "0      4553  Sir Ken Robinson makes an entertaining and pro...    19:24   \n",
       "1       265  With the same humor and humanity he exuded in ...    16:17   \n",
       "2       124  New York Times columnist David Pogue takes aim...    21:26   \n",
       "3       200  In an emotionally charged talk, MacArthur-winn...    18:36   \n",
       "4       593  You've never seen data presented like this. Wi...    19:50   \n",
       "\n",
       "     event   film_date  languages   main_speaker  \\\n",
       "0  TED2006  2006-02-25         60   Ken Robinson   \n",
       "1  TED2006  2006-02-25         43        Al Gore   \n",
       "2  TED2006  2006-02-24         26    David Pogue   \n",
       "3  TED2006  2006-02-26         35  Majora Carter   \n",
       "4  TED2006  2006-02-22         48   Hans Rosling   \n",
       "\n",
       "                                            name  num_speaker published_date  \\\n",
       "0      Ken Robinson: Do schools kill creativity?            1     2006-06-27   \n",
       "1           Al Gore: Averting the climate crisis            1     2006-06-27   \n",
       "2                  David Pogue: Simplicity sells            1     2006-06-27   \n",
       "3             Majora Carter: Greening the ghetto            1     2006-06-27   \n",
       "4  Hans Rosling: The best stats you've ever seen            1     2006-06-27   \n",
       "\n",
       "                                  ratings  \\\n",
       "0            Inspiring, Funny, Persuasive   \n",
       "1           Funny, Informative, Inspiring   \n",
       "2           Funny, Informative, Inspiring   \n",
       "3       Inspiring, Courageous, Persuasive   \n",
       "4  Informative, Fascinating, Jaw-dropping   \n",
       "\n",
       "                     speaker_occupation  \\\n",
       "0                       Author/educator   \n",
       "1                      Climate advocate   \n",
       "2                  Technology columnist   \n",
       "3    Activist for environmental justice   \n",
       "4  Global health expert; data visionary   \n",
       "\n",
       "                                                tags  \\\n",
       "0  children, creativity, culture, dance, educatio...   \n",
       "1  alternative energy, cars, climate change, cult...   \n",
       "2  computers, entertainment, interface design, me...   \n",
       "3  MacArthur grant, activism, business, cities, e...   \n",
       "4  Africa, Asia, Google, demo, economics, global ...   \n",
       "\n",
       "                             title  \\\n",
       "0      Do schools kill creativity?   \n",
       "1      Averting the climate crisis   \n",
       "2                 Simplicity sells   \n",
       "3              Greening the ghetto   \n",
       "4  The best stats you've ever seen   \n",
       "\n",
       "                                                 url     views  \n",
       "0  https://www.ted.com/talks/ken_robinson_says_sc...  47227110  \n",
       "1  https://www.ted.com/talks/al_gore_on_averting_...   3200520  \n",
       "2  https://www.ted.com/talks/david_pogue_says_sim...   1636292  \n",
       "3  https://www.ted.com/talks/majora_carter_s_tale...   1697550  \n",
       "4  https://www.ted.com/talks/hans_rosling_shows_t...  12005869  "
      ]
     },
     "execution_count": 11,
     "metadata": {},
     "output_type": "execute_result"
    }
   ],
   "source": [
    "# This is what the metadata dataframe looks like right now\n",
    "metadata.head()"
   ]
  },
  {
   "cell_type": "markdown",
   "metadata": {},
   "source": [
    "<hr>"
   ]
  },
  {
   "cell_type": "code",
   "execution_count": 12,
   "metadata": {
    "collapsed": false,
    "deletable": true,
    "editable": true
   },
   "outputs": [
    {
     "data": {
      "text/html": [
       "<div>\n",
       "<table border=\"1\" class=\"dataframe\">\n",
       "  <thead>\n",
       "    <tr style=\"text-align: right;\">\n",
       "      <th></th>\n",
       "      <th>comments</th>\n",
       "      <th>description</th>\n",
       "      <th>duration</th>\n",
       "      <th>event</th>\n",
       "      <th>film_date</th>\n",
       "      <th>languages</th>\n",
       "      <th>main_speaker</th>\n",
       "      <th>name</th>\n",
       "      <th>num_speaker</th>\n",
       "      <th>published_date</th>\n",
       "      <th>ratings</th>\n",
       "      <th>speaker_occupation</th>\n",
       "      <th>tags</th>\n",
       "      <th>title</th>\n",
       "      <th>url</th>\n",
       "      <th>views</th>\n",
       "      <th>transcript</th>\n",
       "      <th>tokens</th>\n",
       "      <th>word_cloud</th>\n",
       "    </tr>\n",
       "  </thead>\n",
       "  <tbody>\n",
       "    <tr>\n",
       "      <th>0</th>\n",
       "      <td>4553</td>\n",
       "      <td>Sir Ken Robinson makes an entertaining and pro...</td>\n",
       "      <td>19:24</td>\n",
       "      <td>TED2006</td>\n",
       "      <td>2006-02-25</td>\n",
       "      <td>60</td>\n",
       "      <td>Ken Robinson</td>\n",
       "      <td>Ken Robinson: Do schools kill creativity?</td>\n",
       "      <td>1</td>\n",
       "      <td>2006-06-27</td>\n",
       "      <td>Inspiring, Funny, Persuasive</td>\n",
       "      <td>Author/educator</td>\n",
       "      <td>children, creativity, culture, dance, educatio...</td>\n",
       "      <td>Do schools kill creativity?</td>\n",
       "      <td>https://www.ted.com/talks/ken_robinson_says_sc...</td>\n",
       "      <td>47227110</td>\n",
       "      <td>Good morning. How are you? It's been great, ha...</td>\n",
       "      <td>[secondly, highlytalented, since, switched, da...</td>\n",
       "      <td>highlytalented, gillian, hears, hierarchy, roy...</td>\n",
       "    </tr>\n",
       "    <tr>\n",
       "      <th>1</th>\n",
       "      <td>265</td>\n",
       "      <td>With the same humor and humanity he exuded in ...</td>\n",
       "      <td>16:17</td>\n",
       "      <td>TED2006</td>\n",
       "      <td>2006-02-25</td>\n",
       "      <td>43</td>\n",
       "      <td>Al Gore</td>\n",
       "      <td>Al Gore: Averting the climate crisis</td>\n",
       "      <td>1</td>\n",
       "      <td>2006-06-27</td>\n",
       "      <td>Funny, Informative, Inspiring</td>\n",
       "      <td>Climate advocate</td>\n",
       "      <td>alternative energy, cars, climate change, cult...</td>\n",
       "      <td>Averting the climate crisis</td>\n",
       "      <td>https://www.ted.com/talks/al_gore_on_averting_...</td>\n",
       "      <td>3200520</td>\n",
       "      <td>Thank you so much, Chris. And it's truly a gre...</td>\n",
       "      <td>[monterey, consider, consider, consider, chain...</td>\n",
       "      <td>branding, calculator, washington, carbonneutra...</td>\n",
       "    </tr>\n",
       "    <tr>\n",
       "      <th>2</th>\n",
       "      <td>124</td>\n",
       "      <td>New York Times columnist David Pogue takes aim...</td>\n",
       "      <td>21:26</td>\n",
       "      <td>TED2006</td>\n",
       "      <td>2006-02-24</td>\n",
       "      <td>26</td>\n",
       "      <td>David Pogue</td>\n",
       "      <td>David Pogue: Simplicity sells</td>\n",
       "      <td>1</td>\n",
       "      <td>2006-06-27</td>\n",
       "      <td>Funny, Informative, Inspiring</td>\n",
       "      <td>Technology columnist</td>\n",
       "      <td>computers, entertainment, interface design, me...</td>\n",
       "      <td>Simplicity sells</td>\n",
       "      <td>https://www.ted.com/talks/david_pogue_says_sim...</td>\n",
       "      <td>1636292</td>\n",
       "      <td>Hello voice mail, my old friend. I've called ...</td>\n",
       "      <td>[code, code, code, code, code, code, whoever, ...</td>\n",
       "      <td>cupertino, code, features, links, buttons, gad...</td>\n",
       "    </tr>\n",
       "    <tr>\n",
       "      <th>3</th>\n",
       "      <td>200</td>\n",
       "      <td>In an emotionally charged talk, MacArthur-winn...</td>\n",
       "      <td>18:36</td>\n",
       "      <td>TED2006</td>\n",
       "      <td>2006-02-26</td>\n",
       "      <td>35</td>\n",
       "      <td>Majora Carter</td>\n",
       "      <td>Majora Carter: Greening the ghetto</td>\n",
       "      <td>1</td>\n",
       "      <td>2006-06-27</td>\n",
       "      <td>Inspiring, Courageous, Persuasive</td>\n",
       "      <td>Activist for environmental justice</td>\n",
       "      <td>MacArthur grant, activism, business, cities, e...</td>\n",
       "      <td>Greening the ghetto</td>\n",
       "      <td>https://www.ted.com/talks/majora_carter_s_tale...</td>\n",
       "      <td>1697550</td>\n",
       "      <td>If you're here today — and I'm very happy that...</td>\n",
       "      <td>[surrounded, grassroots, grassroots, dollar, a...</td>\n",
       "      <td>poor, neighborhood, grassroots, lowincome, com...</td>\n",
       "    </tr>\n",
       "    <tr>\n",
       "      <th>4</th>\n",
       "      <td>593</td>\n",
       "      <td>You've never seen data presented like this. Wi...</td>\n",
       "      <td>19:50</td>\n",
       "      <td>TED2006</td>\n",
       "      <td>2006-02-22</td>\n",
       "      <td>48</td>\n",
       "      <td>Hans Rosling</td>\n",
       "      <td>Hans Rosling: The best stats you've ever seen</td>\n",
       "      <td>1</td>\n",
       "      <td>2006-06-27</td>\n",
       "      <td>Informative, Fascinating, Jaw-dropping</td>\n",
       "      <td>Global health expert; data visionary</td>\n",
       "      <td>Africa, Asia, Google, demo, economics, global ...</td>\n",
       "      <td>The best stats you've ever seen</td>\n",
       "      <td>https://www.ted.com/talks/hans_rosling_shows_t...</td>\n",
       "      <td>12005869</td>\n",
       "      <td>About 10 years ago, I took on the task to teac...</td>\n",
       "      <td>[neighbors, incomewe, concept, concept, search...</td>\n",
       "      <td>expectancy, population, statistical, searchabl...</td>\n",
       "    </tr>\n",
       "  </tbody>\n",
       "</table>\n",
       "</div>"
      ],
      "text/plain": [
       "   comments                                        description duration  \\\n",
       "0      4553  Sir Ken Robinson makes an entertaining and pro...    19:24   \n",
       "1       265  With the same humor and humanity he exuded in ...    16:17   \n",
       "2       124  New York Times columnist David Pogue takes aim...    21:26   \n",
       "3       200  In an emotionally charged talk, MacArthur-winn...    18:36   \n",
       "4       593  You've never seen data presented like this. Wi...    19:50   \n",
       "\n",
       "     event   film_date  languages   main_speaker  \\\n",
       "0  TED2006  2006-02-25         60   Ken Robinson   \n",
       "1  TED2006  2006-02-25         43        Al Gore   \n",
       "2  TED2006  2006-02-24         26    David Pogue   \n",
       "3  TED2006  2006-02-26         35  Majora Carter   \n",
       "4  TED2006  2006-02-22         48   Hans Rosling   \n",
       "\n",
       "                                            name  num_speaker published_date  \\\n",
       "0      Ken Robinson: Do schools kill creativity?            1     2006-06-27   \n",
       "1           Al Gore: Averting the climate crisis            1     2006-06-27   \n",
       "2                  David Pogue: Simplicity sells            1     2006-06-27   \n",
       "3             Majora Carter: Greening the ghetto            1     2006-06-27   \n",
       "4  Hans Rosling: The best stats you've ever seen            1     2006-06-27   \n",
       "\n",
       "                                  ratings  \\\n",
       "0            Inspiring, Funny, Persuasive   \n",
       "1           Funny, Informative, Inspiring   \n",
       "2           Funny, Informative, Inspiring   \n",
       "3       Inspiring, Courageous, Persuasive   \n",
       "4  Informative, Fascinating, Jaw-dropping   \n",
       "\n",
       "                     speaker_occupation  \\\n",
       "0                       Author/educator   \n",
       "1                      Climate advocate   \n",
       "2                  Technology columnist   \n",
       "3    Activist for environmental justice   \n",
       "4  Global health expert; data visionary   \n",
       "\n",
       "                                                tags  \\\n",
       "0  children, creativity, culture, dance, educatio...   \n",
       "1  alternative energy, cars, climate change, cult...   \n",
       "2  computers, entertainment, interface design, me...   \n",
       "3  MacArthur grant, activism, business, cities, e...   \n",
       "4  Africa, Asia, Google, demo, economics, global ...   \n",
       "\n",
       "                             title  \\\n",
       "0      Do schools kill creativity?   \n",
       "1      Averting the climate crisis   \n",
       "2                 Simplicity sells   \n",
       "3              Greening the ghetto   \n",
       "4  The best stats you've ever seen   \n",
       "\n",
       "                                                 url     views  \\\n",
       "0  https://www.ted.com/talks/ken_robinson_says_sc...  47227110   \n",
       "1  https://www.ted.com/talks/al_gore_on_averting_...   3200520   \n",
       "2  https://www.ted.com/talks/david_pogue_says_sim...   1636292   \n",
       "3  https://www.ted.com/talks/majora_carter_s_tale...   1697550   \n",
       "4  https://www.ted.com/talks/hans_rosling_shows_t...  12005869   \n",
       "\n",
       "                                          transcript  \\\n",
       "0  Good morning. How are you? It's been great, ha...   \n",
       "1  Thank you so much, Chris. And it's truly a gre...   \n",
       "2   Hello voice mail, my old friend. I've called ...   \n",
       "3  If you're here today — and I'm very happy that...   \n",
       "4  About 10 years ago, I took on the task to teac...   \n",
       "\n",
       "                                              tokens  \\\n",
       "0  [secondly, highlytalented, since, switched, da...   \n",
       "1  [monterey, consider, consider, consider, chain...   \n",
       "2  [code, code, code, code, code, code, whoever, ...   \n",
       "3  [surrounded, grassroots, grassroots, dollar, a...   \n",
       "4  [neighbors, incomewe, concept, concept, search...   \n",
       "\n",
       "                                          word_cloud  \n",
       "0  highlytalented, gillian, hears, hierarchy, roy...  \n",
       "1  branding, calculator, washington, carbonneutra...  \n",
       "2  cupertino, code, features, links, buttons, gad...  \n",
       "3  poor, neighborhood, grassroots, lowincome, com...  \n",
       "4  expectancy, population, statistical, searchabl...  "
      ]
     },
     "execution_count": 12,
     "metadata": {},
     "output_type": "execute_result"
    }
   ],
   "source": [
    "# Both dataframes need to be merges. Luckily they both contain the URL of the TEDtalk, \n",
    "# so they can be merges based on this column\n",
    "tedTalksData = pd.merge(metadata, transcripts, on = \"url\")\n",
    "\n",
    "# This is what the final dataset looks like\n",
    "tedTalksData.head()"
   ]
  },
  {
   "cell_type": "code",
   "execution_count": 13,
   "metadata": {
    "collapsed": true
   },
   "outputs": [],
   "source": [
    "# The dataset is exported to a JSON file \n",
    "tedTalksData.to_json('tedTalksData.json', orient='index')"
   ]
  },
  {
   "cell_type": "markdown",
   "metadata": {},
   "source": [
    "# Elastic Search & Kibana"
   ]
  },
  {
   "cell_type": "code",
   "execution_count": 22,
   "metadata": {
    "collapsed": false
   },
   "outputs": [],
   "source": [
    "# Initialize Elastic Search\n",
    "HOST = 'http://localhost:9200/'\n",
    "es = Elasticsearch(hosts=[HOST])"
   ]
  },
  {
   "cell_type": "code",
   "execution_count": 27,
   "metadata": {
    "collapsed": false
   },
   "outputs": [
    {
     "data": {
      "text/plain": [
       "{u'acknowledged': True}"
      ]
     },
     "execution_count": 27,
     "metadata": {},
     "output_type": "execute_result"
    }
   ],
   "source": [
    "# Delete index if it already exists to prevent conflicts\n",
    "es.indices.delete(index='ted-talks', ignore=[400, 404]) "
   ]
  },
  {
   "cell_type": "code",
   "execution_count": 28,
   "metadata": {
    "collapsed": false
   },
   "outputs": [
    {
     "name": "stdout",
     "output_type": "stream",
     "text": [
      "{\"acknowledged\":true,\"shards_acknowledged\":true,\"index\":\"ted-talks\"}"
     ]
    }
   ],
   "source": [
    "# Create index with proper mapping\n",
    "! curl -X PUT \"http://localhost:9200/ted-talks/\" -d '{ \"settings\" : { \"number_of_shards\" : 1 }, \"mappings\" : { \"talks\" : { \"properties\" : { \"comments\" : { \"type\" : \"long\" }, \"description\": { \"type\": \"text\" }, \"duration\" : { \"type\" : \"text\" }, \"event\" : { \"type\" : \"text\", \"index\": \"no\" }, \"film_date\" : { \"type\" : \"date\" }, \"languages\" : { \"type\" : \"long\" }, \"main_speaker\" : { \"type\" : \"text\", \"norms\": { \"enabled\": false } }, \"name\" : { \"type\" : \"text\", \"norms\": { \"enabled\": false } }, \"num_speaker\" : { \"type\" : \"long\" }, \"published_date\" : { \"type\" : \"date\" }, \"ratings\" : { \"type\": \"text\", \"norms\": { \"enabled\": false }, \"fielddata\": true, \"fields\": { \"raw\": { \"type\": \"keyword\" } } }, \"speaker_occupation\" : { \"type\" : \"text\", \"norms\": { \"enabled\": false } }, \"tags\" : { \"type\": \"text\", \"fielddata\": true, \"fields\": { \"raw\": { \"type\": \"keyword\" } } }, \"title\" : { \"type\" : \"text\", \"index\": \"no\" }, \"url\" : { \"type\" : \"text\" }, \"views\" : { \"type\" : \"long\" }, \"transcript\": { \"type\": \"text\", \"index\":\"no\" }, \"tokens\": { \"type\": \"text\", \"fields\": { \"raw\": { \"type\": \"keyword\" } } }, \"word_cloud\" : { \"type\": \"text\", \"fielddata\": true, \"fields\": { \"raw\": { \"type\": \"keyword\" } } } } } } }'\n"
   ]
  },
  {
   "cell_type": "code",
   "execution_count": 29,
   "metadata": {
    "collapsed": false
   },
   "outputs": [],
   "source": [
    "# Load data from JSON file and import in index\n",
    "with open('tedTalksData.json') as data_file:    \n",
    "    data = json.load(data_file)\n",
    "    \n",
    "for index, row in data.iteritems():\n",
    "    es.index(index='ted-talks', doc_type='talks', id=index, body=row)"
   ]
  },
  {
   "cell_type": "code",
   "execution_count": 36,
   "metadata": {
    "collapsed": false
   },
   "outputs": [
    {
     "name": "stdout",
     "output_type": "stream",
     "text": [
      "2467 rows should have been added: True\n"
     ]
    }
   ],
   "source": [
    "# Count the number of items in the index to check if data is loaded correctly\n",
    "added = es.count(index='ted-talks')['count']\n",
    "check = tedTalksData.shape[0]\n",
    "\n",
    "print \"%s rows should have been added: %s\" % (check, (check == added))"
   ]
  }
 ],
 "metadata": {
  "kernelspec": {
   "display_name": "Python 2",
   "language": "python",
   "name": "python2"
  },
  "language_info": {
   "codemirror_mode": {
    "name": "ipython",
    "version": 2
   },
   "file_extension": ".py",
   "mimetype": "text/x-python",
   "name": "python",
   "nbconvert_exporter": "python",
   "pygments_lexer": "ipython2",
   "version": "2.7.13"
  }
 },
 "nbformat": 4,
 "nbformat_minor": 2
}
